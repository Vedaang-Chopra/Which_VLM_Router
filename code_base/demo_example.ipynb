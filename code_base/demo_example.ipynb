{
 "cells": [
  {
   "cell_type": "code",
   "execution_count": 1,
   "id": "2c9d5cad",
   "metadata": {},
   "outputs": [],
   "source": [
    "from datasets import load_dataset\n",
    "import base64\n",
    "import time\n",
    "from openai import OpenAI"
   ]
  },
  {
   "cell_type": "code",
   "execution_count": 2,
   "id": "0b4dbd7f",
   "metadata": {},
   "outputs": [],
   "source": [
    "import json, time\n",
    "from typing import Dict, Any, Tuple\n",
    "from openai import OpenAI"
   ]
  },
  {
   "cell_type": "code",
   "execution_count": 3,
   "id": "ab1b4c9a",
   "metadata": {},
   "outputs": [],
   "source": [
    "import base64\n",
    "from io import BytesIO\n",
    "from PIL import Image  # pip install pillow\n",
    "from IPython.display import display"
   ]
  },
  {
   "cell_type": "code",
   "execution_count": 4,
   "id": "50df672b",
   "metadata": {},
   "outputs": [],
   "source": [
    "# %load_ext cudf.pandas\n",
    "import pandas as pd"
   ]
  },
  {
   "cell_type": "code",
   "execution_count": 5,
   "id": "d823a20a",
   "metadata": {},
   "outputs": [],
   "source": [
    "# point to any judge server you started (Phi-4, InternVL2, or OneVision)\n",
    "EVAL_MODEL = \"Qwen/Qwen2.5-VL-7B-Instruct\"\n",
    "JUDGE_MODEL= \"google/gemma-3-27b-it\"\n",
    "\n",
    "# point to your vLLM server\n",
    "eval_client = OpenAI(base_url=\"http://localhost:8000/v1\", api_key=\"EMPTY\")\n",
    "judge_client = OpenAI(base_url=\"http://localhost:8002/v1\", api_key=\"EMPTY\")"
   ]
  },
  {
   "cell_type": "markdown",
   "id": "ab7f5df2",
   "metadata": {},
   "source": [
    "### Load Dataset"
   ]
  },
  {
   "cell_type": "code",
   "execution_count": 6,
   "id": "0de0bff4",
   "metadata": {},
   "outputs": [
    {
     "data": {
      "application/vnd.jupyter.widget-view+json": {
       "model_id": "0756a1a0ad514409946a9d10191f9d27",
       "version_major": 2,
       "version_minor": 0
      },
      "text/plain": [
       "Resolving data files:   0%|          | 0/43 [00:00<?, ?it/s]"
      ]
     },
     "metadata": {},
     "output_type": "display_data"
    },
    {
     "data": {
      "application/vnd.jupyter.widget-view+json": {
       "model_id": "1c8ae2b7f0bc451eb143e9a579fdf0e6",
       "version_major": 2,
       "version_minor": 0
      },
      "text/plain": [
       "Resolving data files:   0%|          | 0/43 [00:00<?, ?it/s]"
      ]
     },
     "metadata": {},
     "output_type": "display_data"
    },
    {
     "data": {
      "text/plain": [
       "(IterableDataset({\n",
       "     features: ['images', 'conversation_id', 'model', 'num_turns', 'conversation', 'language', 'user_id', 'tstamp', 'is_preset', 'preset_dataset', 'categories'],\n",
       "     num_shards: 43\n",
       " }),\n",
       " datasets.iterable_dataset.IterableDataset)"
      ]
     },
     "execution_count": 6,
     "metadata": {},
     "output_type": "execute_result"
    }
   ],
   "source": [
    "dataset = load_dataset(\"lmarena-ai/VisionArena-Chat\", split=\"train\", streaming=True)\n",
    "en_dataset = dataset.filter(lambda ex: ex[\"num_turns\"] == 1 and ex[\"language\"] == \"English\")\n",
    "\n",
    "small_ds = en_dataset.take(100)\n",
    "# To access the first conversation\n",
    "small_ds, type(small_ds)"
   ]
  },
  {
   "cell_type": "code",
   "execution_count": 7,
   "id": "f2049883",
   "metadata": {},
   "outputs": [
    {
     "name": "stdout",
     "output_type": "stream",
     "text": [
      "0 qwen2-vl-72b\n",
      "1 gemini-1.5-pro-api-0514\n",
      "2 gemini-1.5-flash-8b-exp-0924\n",
      "3 gpt-4o-mini-2024-07-18\n",
      "4 gemini-1.5-pro-api-0514\n",
      "5 gemini-1.5-flash-api-0514\n",
      "6 llava-onevision-qwen2-72b-ov-chat\n",
      "7 gpt-4o-mini-2024-07-18\n",
      "8 pixtral-12b-2409\n",
      "9 gpt-4-turbo-2024-04-09\n",
      "10 reka-flash-preview-20240611\n",
      "11 gemini-1.5-pro-exp-0801\n",
      "12 claude-3-5-sonnet-20240620\n",
      "13 gemini-1.5-pro-exp-0801\n",
      "14 gpt-4-turbo-2024-04-09\n",
      "15 claude-3-5-sonnet-20240620\n",
      "16 gemini-1.5-pro-002\n",
      "17 llama-3.2-vision-11b-instruct\n",
      "18 gemini-1.5-flash-8b-exp-0827\n",
      "19 claude-3-5-sonnet-20240620\n",
      "20 claude-3-opus-20240229\n",
      "21 gemini-1.5-pro-api-0514\n",
      "22 llava-v1.6-34b\n",
      "23 claude-3-5-sonnet-20240620\n",
      "24 gemini-1.5-pro-exp-0827\n",
      "25 chatgpt-4o-latest-20240903\n",
      "26 internvl2-4b\n",
      "27 dumbledore-v1\n",
      "28 gpt-4o-mini-2024-07-18\n",
      "29 gemini-1.5-flash-api-0514\n",
      "30 minicpm-v-2_6\n",
      "31 pixtral-12b-2409\n",
      "32 chatgpt-4o-latest-20240903\n",
      "33 gemini-1.5-flash-exp-0827\n",
      "34 chatgpt-4o-latest-20240903\n",
      "35 phi-3.5-vision-instruct\n",
      "36 gpt-4o-2024-05-13\n",
      "37 gemini-1.5-pro-api-0514\n",
      "38 claude-3-opus-20240229\n",
      "39 gpt-4-turbo-2024-04-09\n",
      "40 reka-core-20240501\n",
      "41 gemini-1.5-flash-001\n",
      "42 qwen2-vl-72b\n",
      "43 claude-3-5-sonnet-20240620\n",
      "44 chatgpt-4o-latest-20240903\n",
      "45 gemini-1.5-flash-api-0514\n",
      "46 claude-3-haiku-20240307\n",
      "47 claude-3-opus-20240229\n",
      "48 gemini-1.5-pro-exp-0827\n",
      "49 molmo-7b-d-0924\n",
      "50 gpt-4o-mini-2024-07-18\n",
      "51 gemini-1.5-flash-api-0514\n",
      "52 llama-3.2-vision-90b-instruct\n",
      "53 gpt-4o-2024-08-06\n",
      "54 molmo-72b-0924\n",
      "55 gpt-4o-mini-2024-07-18\n",
      "56 gemini-1.5-pro-exp-0801\n",
      "57 gemini-1.5-flash-8b-001\n",
      "58 gemini-1.5-flash-api-0514\n",
      "59 gpt-4o-2024-05-13\n",
      "60 yi-vision\n",
      "61 llava-onevision-qwen2-72b-ov\n",
      "62 claude-3-haiku-20240307\n",
      "63 gpt-4-turbo-2024-04-09\n",
      "64 claude-3-haiku-20240307\n",
      "65 gemini-1.5-flash-8b-exp-0827\n",
      "66 gemini-1.5-flash-exp-0827\n",
      "67 claude-3-opus-20240229\n",
      "68 claude-3-sonnet-20240229\n",
      "69 reka-flash-preview-20240611\n",
      "70 gemini-1.5-pro-exp-0801\n",
      "71 claude-3-haiku-20240307\n",
      "72 yi-vision\n",
      "73 gpt-4o-2024-05-13\n",
      "74 claude-3-5-sonnet-20240620\n",
      "75 gemini-1.5-pro-exp-0827\n",
      "76 claude-3-5-sonnet-20240620\n",
      "77 gemini-1.5-pro-001\n",
      "78 reka-core-20240501\n",
      "79 gemini-1.5-pro-api-0514\n",
      "80 gemini-1.5-pro-api-0514\n",
      "81 gemini-1.5-pro-002\n",
      "82 chatgpt-4o-latest-20240903\n",
      "83 pixtral-12b-2409\n",
      "84 chatgpt-4o-latest-20240903\n",
      "85 claude-3-opus-20240229\n",
      "86 gemini-1.5-flash-002\n",
      "87 reka-core-20240501\n",
      "88 claude-3-5-sonnet-20240620\n",
      "89 gemini-1.5-pro-api-0514\n",
      "90 gemini-1.5-pro-exp-0827\n",
      "91 reka-core-20240501\n",
      "92 cogvlm2-llama3-chat-19b\n",
      "93 claude-3-opus-20240229\n",
      "94 gpt-4o-mini-2024-07-18\n",
      "95 gemini-1.5-pro-api-0514\n",
      "96 molmo-7b-d-0924\n",
      "97 chatgpt-4o-latest-20240903\n",
      "98 gpt-4-turbo-2024-04-09\n",
      "99 claude-3-opus-20240229\n"
     ]
    }
   ],
   "source": [
    "it = iter(small_ds)\n",
    "for idx, val in enumerate(it):\n",
    "    print(idx, val['model'], \n",
    "        #   val['conversation'], \n",
    "          # print({k: v for k, v in val[\"categories\"].items()})\n",
    "    )"
   ]
  },
  {
   "cell_type": "markdown",
   "id": "3b3e1880",
   "metadata": {},
   "source": [
    "### Filtering per Category"
   ]
  },
  {
   "cell_type": "code",
   "execution_count": 8,
   "id": "ce9e92f1",
   "metadata": {},
   "outputs": [],
   "source": [
    "from collections import defaultdict\n",
    "\n",
    "def sample_by_category(\n",
    "    it,\n",
    "    category_key=\"categories\",\n",
    "    id_key=None,                 # if provided, used to dedupe (e.g., \"conversation_id\")\n",
    "    target_categories=None,      # if provided, limit to these category names\n",
    "    k=10,\n",
    "    exclusive=False,\n",
    "):\n",
    "    \"\"\"\n",
    "    Returns dict: {category: [records]}\n",
    "    - Non-exclusive: a record can appear in multiple category lists.\n",
    "    - Exclusive: each record appears in at most one category (the 'neediest' bucket).\n",
    "    \"\"\"\n",
    "    buckets = defaultdict(list)\n",
    "    counts = defaultdict(int)\n",
    "    used_ids = set()\n",
    "\n",
    "    # Helper: do we already have k for all target cats?\n",
    "    def all_filled():\n",
    "        cats = target_categories or list(counts.keys())\n",
    "        # If counts has not seen some target yet, treat as 0\n",
    "        return all(counts.get(c, 0) >= k for c in cats)\n",
    "\n",
    "    for rec in it:\n",
    "        cats_dict = rec.get(category_key, {}) or {}\n",
    "        cats = [c for c, v in cats_dict.items() if v]\n",
    "\n",
    "        if not cats:\n",
    "            continue\n",
    "\n",
    "        if target_categories is not None:\n",
    "            cats = [c for c in cats if c in target_categories]\n",
    "            if not cats:\n",
    "                continue\n",
    "\n",
    "        rec_id = rec.get(id_key) if id_key else None\n",
    "        if exclusive:\n",
    "            # Skip if we already used this record\n",
    "            if rec_id is not None and rec_id in used_ids:\n",
    "                continue\n",
    "            # Choose the category among this record's cats with the smallest fill so far\n",
    "            neediest = None\n",
    "            neediest_count = float(\"inf\")\n",
    "            for c in cats:\n",
    "                if counts[c] < k and counts[c] < neediest_count:\n",
    "                    neediest = c\n",
    "                    neediest_count = counts[c]\n",
    "            if neediest is not None:\n",
    "                buckets[neediest].append(rec)\n",
    "                counts[neediest] += 1\n",
    "                if rec_id is not None:\n",
    "                    used_ids.add(rec_id)\n",
    "        else:\n",
    "            # Add this record to every category that still needs items\n",
    "            added_any = False\n",
    "            for c in cats:\n",
    "                if counts[c] < k:\n",
    "                    buckets[c].append(rec)\n",
    "                    counts[c] += 1\n",
    "                    added_any = True\n",
    "            # Optional: if you want to avoid the *same* record appearing\n",
    "            # multiple times in the same category due to repeated iterator entries,\n",
    "            # also track used_ids per-category. Skipped here since iterator\n",
    "            # usually yields unique items.\n",
    "\n",
    "        if all_filled():\n",
    "            break\n",
    "\n",
    "    return dict(buckets)\n",
    "it = iter(small_ds)\n",
    "cats = [\"captioning\",\"code\",\"ocr\",\"refusal\"]\n",
    "result = sample_by_category(it, target_categories=cats, k=10)"
   ]
  },
  {
   "cell_type": "code",
   "execution_count": 9,
   "id": "b2b0315c",
   "metadata": {},
   "outputs": [
    {
     "name": "stdout",
     "output_type": "stream",
     "text": [
      "ocr 10\n",
      "code 6\n",
      "captioning 10\n",
      "refusal 1\n"
     ]
    }
   ],
   "source": [
    "for k, v in result.items():\n",
    "    print(k, len(v))"
   ]
  },
  {
   "cell_type": "code",
   "execution_count": 10,
   "id": "d40f66b0",
   "metadata": {},
   "outputs": [
    {
     "name": "stdout",
     "output_type": "stream",
     "text": [
      "conversation_id 025dd275ecaf4b8bab1b1e9ca769164a\n",
      "model gpt-4o-mini-2024-07-18\n",
      "num_turns 1\n",
      "conversation [[{'content': 'Refer to the figure. For Ben, what is the opportunity cost of 1 kg of ice cream?\\nQuestion 50 options:\\n\\na) \\n\\n1/4 kg of cones\\n\\n\\nb) \\n\\n1/2 kg of cones\\n\\n\\nc) \\n\\n2 kg of cones\\n\\n\\nd) \\n\\n4 kg of cones\\n\\n', 'role': 'user'}], [{'content': 'To find the opportunity cost of 1 kg of ice cream for Ben, we can analyze the production possibilities frontier (PPF) based on the graph provided.\\n\\nFrom the graph:\\n- Ben can produce a maximum of 2 kg of ice cream and 8 cones. \\n\\nTo calculate the opportunity cost of 1 kg of ice cream:\\n1. If Ben produces 0 kg of ice cream, he can produce 8 cones.\\n2. If he produces 2 kg of ice cream, he produces 0 cones.\\n\\nThe trade-off shows that producing 2 kg of ice cream costs him 8 cones. Therefore, the opportunity cost of producing 1 kg of ice cream is:\\n\\n\\\\[\\n\\\\text{Opportunity Cost} = \\\\frac{8 \\\\text{ cones}}{2 \\\\text{ kg of ice cream}} = 4 \\\\text{ cones per kg of ice cream}\\n\\\\]\\n\\nThus, the opportunity cost of 1 kg of ice cream for Ben is **4 kg of cones**.\\n\\nThe correct answer is:\\n\\n**d) 4 kg of cones**.', 'role': 'assistant'}]]\n",
      "language English\n",
      "user_id 68263\n",
      "tstamp 1722474712.0727\n",
      "is_preset False\n",
      "preset_dataset N/A\n",
      "categories {'captioning': False, 'code': False, 'creative_writing': False, 'diagram': True, 'entity_recognition': False, 'homework': False, 'humor': False, 'is_code': False, 'ocr': True, 'refusal': False}\n"
     ]
    }
   ],
   "source": [
    "# (result['ocr'])[0][]\n",
    "for k, v in result['ocr'][2].items():\n",
    "    if k != \"images\":   # skip \"b\"\n",
    "        print(k, v)"
   ]
  },
  {
   "cell_type": "markdown",
   "id": "91653ec8",
   "metadata": {},
   "source": [
    "### Testing one sample"
   ]
  },
  {
   "cell_type": "code",
   "execution_count": 11,
   "id": "f1e1bdc4",
   "metadata": {},
   "outputs": [
    {
     "data": {
      "text/plain": [
       "dict_keys(['images', 'conversation_id', 'model', 'num_turns', 'conversation', 'language', 'user_id', 'tstamp', 'is_preset', 'preset_dataset', 'categories'])"
      ]
     },
     "execution_count": 11,
     "metadata": {},
     "output_type": "execute_result"
    }
   ],
   "source": [
    "it = iter(small_ds)\n",
    "first = next(it)\n",
    "first = next(it)\n",
    "first = next(it)\n",
    "first.keys()"
   ]
  },
  {
   "cell_type": "code",
   "execution_count": 12,
   "id": "d2c58dd6",
   "metadata": {},
   "outputs": [],
   "source": [
    "list_of_columns_to_view = [ 'conversation_id', 'model', 'num_turns', 'conversation', 'language', 'user_id', 'tstamp', 'is_preset', 'preset_dataset', 'categories']"
   ]
  },
  {
   "cell_type": "code",
   "execution_count": 13,
   "id": "7ddc7266",
   "metadata": {},
   "outputs": [
    {
     "name": "stdout",
     "output_type": "stream",
     "text": [
      "conversation_id fa477bd697d8453182064a05a525ab59\n",
      "model gemini-1.5-flash-8b-exp-0924\n",
      "num_turns 1\n",
      "conversation [[{'content': 'Please, convert these formulas to markdown LaTeX, use russian for text', 'role': 'user'}], [{'content': '```latex\\nk_t = \\\\begin{cases}\\n1, & \\\\text{если } y_t \\\\text{ больше всех предыдущих уровней}, \\\\\\\\\\n0, & \\\\text{в противном случае},\\n\\\\end{cases}\\n```\\n\\n```latex\\nl_t = \\\\begin{cases}\\n1, & \\\\text{если } y_t \\\\text{ меньше всех предыдущих уровней}, \\\\\\\\\\n0, & \\\\text{в противном случае},\\n\\\\end{cases}\\nt=2, 3, \\\\dots, n.\\n```', 'role': 'assistant'}]]\n",
      "language English\n",
      "user_id 85086\n",
      "tstamp 1727936937.9158\n",
      "is_preset False\n",
      "preset_dataset N/A\n",
      "categories {'captioning': False, 'code': True, 'creative_writing': False, 'diagram': False, 'entity_recognition': False, 'homework': True, 'humor': False, 'is_code': True, 'ocr': True, 'refusal': False}\n"
     ]
    }
   ],
   "source": [
    "for k, v in first.items():\n",
    "    if k != \"images\":   # skip \"b\"\n",
    "        print(k, v)"
   ]
  },
  {
   "cell_type": "code",
   "execution_count": 14,
   "id": "a83f36a1",
   "metadata": {},
   "outputs": [
    {
     "data": {
      "text/plain": [
       "{'captioning': False,\n",
       " 'code': True,\n",
       " 'creative_writing': False,\n",
       " 'diagram': False,\n",
       " 'entity_recognition': False,\n",
       " 'homework': True,\n",
       " 'humor': False,\n",
       " 'is_code': True,\n",
       " 'ocr': True,\n",
       " 'refusal': False}"
      ]
     },
     "execution_count": 14,
     "metadata": {},
     "output_type": "execute_result"
    }
   ],
   "source": [
    "first['categories']"
   ]
  },
  {
   "cell_type": "code",
   "execution_count": 15,
   "id": "eba336f8",
   "metadata": {},
   "outputs": [
    {
     "data": {
      "image/png": "[encoded data removed]",
      "text/plain": [
       "<PIL.PngImagePlugin.PngImageFile image mode=RGBA size=735x457>"
      ]
     },
     "metadata": {},
     "output_type": "display_data"
    }
   ],
   "source": [
    "image = Image.open(BytesIO(first['images'][0]['bytes']))\n",
    "display(image)"
   ]
  },
  {
   "cell_type": "code",
   "execution_count": null,
   "id": "e8ee9a8a",
   "metadata": {},
   "outputs": [],
   "source": [
    "first['conversation']"
   ]
  },
  {
   "cell_type": "code",
   "execution_count": null,
   "id": "81b48abc",
   "metadata": {},
   "outputs": [],
   "source": [
    "# def encode_categories(example):\n",
    "#     mapping = {\n",
    "#         'captioning': 0,\n",
    "#         'code': 1,\n",
    "#         'creative_writing': 2,\n",
    "#         'diagram': 3,\n",
    "#         'entity_recognition': 4,\n",
    "#         'homework': 5,\n",
    "#         'humor': 6,\n",
    "#         'is_code': 7,\n",
    "#         'ocr': 8,\n",
    "#         'refusal': 9\n",
    "#     }\n",
    "#     ids = [mapping[cat] for cat, val in example[\"categories\"].items() if val]\n",
    "#     return {\"category_ids\": ids}\n",
    "\n",
    "# dataset = dataset[10].map(encode_categories)"
   ]
  },
  {
   "cell_type": "code",
   "execution_count": null,
   "id": "6a8b77d3",
   "metadata": {},
   "outputs": [],
   "source": [
    "# type(dataset[:10])"
   ]
  },
  {
   "cell_type": "markdown",
   "id": "1f833dca",
   "metadata": {},
   "source": [
    "### Send API request to Test"
   ]
  },
  {
   "cell_type": "markdown",
   "id": "39b12147",
   "metadata": {},
   "source": [
    "### Load the Image"
   ]
  },
  {
   "cell_type": "code",
   "execution_count": null,
   "id": "040548fa",
   "metadata": {},
   "outputs": [],
   "source": [
    "text_data= first['conversation'][0][0]['content']\n",
    "text_data"
   ]
  },
  {
   "cell_type": "code",
   "execution_count": null,
   "id": "16dfc61a",
   "metadata": {},
   "outputs": [],
   "source": [
    "image_data = first['images'][0]['bytes']\n",
    "if isinstance(image_data, list):                     # some HF datasets store ints\n",
    "    image_data = bytes(image_data)\n",
    "img_b64 = base64.b64encode(image_data).decode(\"utf-8\")"
   ]
  },
  {
   "cell_type": "markdown",
   "id": "a63b1ffa",
   "metadata": {},
   "source": [
    "### Prompt -1"
   ]
  },
  {
   "cell_type": "code",
   "execution_count": null,
   "id": "45024c76",
   "metadata": {},
   "outputs": [],
   "source": [
    "# Build multimodal message\n",
    "messages = [\n",
    "    {\n",
    "        \"role\": \"user\",\n",
    "        \"content\": [\n",
    "            {\"type\": \"text\", \"text\": text_data},\n",
    "            {\"type\": \"image_url\", \"image_url\": {\"url\": f\"data:image/jpeg;base64,{img_b64}\"}}\n",
    "        ]\n",
    "    }\n",
    "]"
   ]
  },
  {
   "cell_type": "code",
   "execution_count": null,
   "id": "b82c9d08",
   "metadata": {},
   "outputs": [],
   "source": [
    "\n",
    "# Measure latency\n",
    "t0 = time.perf_counter()\n",
    "resp = eval_client.chat.completions.create(\n",
    "    model=EVAL_MODEL,\n",
    "    messages=messages,\n",
    "    max_tokens=128,\n",
    "    temperature=0.0,\n",
    ")\n",
    "latency = time.perf_counter() - t0\n",
    "\n",
    "print(\"=== Response ===\")\n",
    "ai_answer = resp.choices[0].message.content\n",
    "print(resp.choices[0].message.content)\n",
    "print(f\"\\nLatency: {latency:.3f} seconds\")"
   ]
  },
  {
   "cell_type": "code",
   "execution_count": null,
   "id": "3df801db",
   "metadata": {},
   "outputs": [],
   "source": [
    "original_answer = first['conversation'][1][0]['content']\n",
    "original_answer"
   ]
  },
  {
   "cell_type": "code",
   "execution_count": null,
   "id": "8fa2172c",
   "metadata": {},
   "outputs": [],
   "source": [
    "first['model']"
   ]
  },
  {
   "cell_type": "markdown",
   "id": "a8a123ab",
   "metadata": {},
   "source": [
    "### Evaluate - the answers"
   ]
  },
  {
   "cell_type": "code",
   "execution_count": null,
   "id": "97f7093b",
   "metadata": {},
   "outputs": [],
   "source": []
  },
  {
   "cell_type": "code",
   "execution_count": null,
   "id": "77cb9d0c",
   "metadata": {},
   "outputs": [],
   "source": [
    "JUDGE_PROMPT = r\"\"\"\n",
    "You are a strict multimodal judge. You will be given:\n",
    "- A USER_QUESTION\n",
    "- An IMAGE\n",
    "- A REFERENCE_ANSWER (original answer)\n",
    "- A MODEL_ANSWER (answer to evaluate)\n",
    "\n",
    "Step 1: Verify the REFERENCE_ANSWER against USER_QUESTION and IMAGE. Assume it is the baseline to match, unless it is clearly wrong.\n",
    "Step 2: Judge MODEL_ANSWER against USER_QUESTION, IMAGE, and REFERENCE_ANSWER for:\n",
    "  1. Correctness – Are facts consistent with the IMAGE and USER_QUESTION? Avoid contradictions.\n",
    "  2. Completeness – Does it cover the important details present in REFERENCE_ANSWER?\n",
    "  3. Relevance – Does it avoid adding off-topic or unsupported details not visible in IMAGE?\n",
    "\n",
    "Scoring (0–100):\n",
    "- Compute a weighted score:\n",
    "  • Correctness: 0.40\n",
    "  • Completeness: 0.45\n",
    "  • Relevance: 0.15\n",
    "- Start each sub-score at 1.0, subtract for errors, missing content, or irrelevant details.\n",
    "- Final score = weighted sum × 100 (rounded to int).\n",
    "- Cap at 99 if MODEL_ANSWER is missing facts or contains contradictions.\n",
    "- Bonus: If MODEL_ANSWER adds new correct and IMAGE-supported details (not in REFERENCE_ANSWER), allow up to +3 points, capped at 100.\n",
    "- If MODEL_ANSWER is empty, irrelevant, or a refusal → score 0–10.\n",
    "\n",
    "Output:\n",
    "Respond ONLY with JSON exactly like:\n",
    "{\"score\": <int>, \"justification\": \"<one short sentence>\"}\n",
    "\"\"\"\n"
   ]
  },
  {
   "cell_type": "code",
   "execution_count": null,
   "id": "e68fce30",
   "metadata": {},
   "outputs": [],
   "source": [
    "def build_messages(user_question: str, reference: str, model_answer: str, img_b64: str):\n",
    "    return [\n",
    "        {\"role\": \"system\", \"content\": JUDGE_PROMPT},\n",
    "        {\n",
    "            \"role\": \"user\",\n",
    "            \"content\": [\n",
    "                {\"type\": \"text\", \"text\": (\n",
    "                    f\"USER_QUESTION:\\n{user_question}\\n\\n\"\n",
    "                    f\"REFERENCE_ANSWER:\\n{reference}\\n\\n\"\n",
    "                    f\"MODEL_ANSWER:\\n{model_answer}\\n\\n\"\n",
    "                    \"Judge MODEL_ANSWER for correctness, completeness, and relevance relative to REFERENCE_ANSWER, USER_QUESTION, and IMAGE.\"\n",
    "                )},\n",
    "                {\"type\": \"image_url\",\n",
    "                 \"image_url\": {\"url\": f\"data:image/jpeg;base64,{img_b64}\"}}\n",
    "            ]\n",
    "        }\n",
    "    ]\n"
   ]
  },
  {
   "cell_type": "code",
   "execution_count": null,
   "id": "0929ad50",
   "metadata": {},
   "outputs": [],
   "source": [
    "def run_judge(messages, max_retries=3):\n",
    "    last_err = None\n",
    "    for i in range(max_retries):\n",
    "        try:\n",
    "            resp = judge_client.chat.completions.create(\n",
    "                model=JUDGE_MODEL,\n",
    "                messages=messages,\n",
    "                temperature=0,\n",
    "                top_p=1,\n",
    "                max_tokens=128,\n",
    "                response_format={\"type\": \"json_object\"},\n",
    "            )\n",
    "            return json.loads(resp.choices[0].message.content)\n",
    "        except Exception as e:\n",
    "            last_err = e\n",
    "            time.sleep(0.5*(i+1))\n",
    "    raise RuntimeError(f\"Judge failed: {last_err}\")"
   ]
  },
  {
   "cell_type": "code",
   "execution_count": null,
   "id": "e5eff8f2",
   "metadata": {},
   "outputs": [],
   "source": [
    "msgs = build_messages(text_data, original_answer, ai_answer, img_b64)\n",
    "result = run_judge(msgs)\n",
    "print(result)  # {\"score\": ..., \"justification\": \"...\"}"
   ]
  },
  {
   "cell_type": "code",
   "execution_count": null,
   "id": "86b5f646",
   "metadata": {},
   "outputs": [],
   "source": []
  },
  {
   "cell_type": "code",
   "execution_count": null,
   "metadata": {},
   "outputs": [],
   "source": []
  },
  {
   "cell_type": "code",
   "execution_count": null,
   "metadata": {},
   "outputs": [],
   "source": []
  }
 ],
 "metadata": {
  "kernelspec": {
   "display_name": "project_8803_env",
   "language": "python",
   "name": "python3"
  },
  "language_info": {
   "codemirror_mode": {
    "name": "ipython",
    "version": 3
   },
   "file_extension": ".py",
   "mimetype": "text/x-python",
   "name": "python",
   "nbconvert_exporter": "python",
   "pygments_lexer": "ipython3",
   "version": "3.10.12"
  }
 },
 "nbformat": 4,
 "nbformat_minor": 5
}
