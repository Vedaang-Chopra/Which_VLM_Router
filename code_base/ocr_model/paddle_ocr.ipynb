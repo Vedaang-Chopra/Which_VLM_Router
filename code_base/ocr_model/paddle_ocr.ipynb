{
 "cells": [
  {
   "cell_type": "code",
   "execution_count": null,
   "id": "f6077df5",
   "metadata": {},
   "outputs": [
    {
     "name": "stdout",
     "output_type": "stream",
     "text": [
      "Device: gpu:0\n",
      "Running verify PaddlePaddle program ... \n"
     ]
    },
    {
     "name": "stderr",
     "output_type": "stream",
     "text": [
      "I0925 20:00:42.185191 2998259 program_interpreter.cc:212] New Executor is Running.\n",
      "W0925 20:00:42.186199 2998259 gpu_resources.cc:119] Please NOTE: device: 0, GPU Compute Capability: 8.0, Driver API Version: 12.9, Runtime API Version: 11.8\n",
      "W0925 20:00:42.743566 2998259 gpu_resources.cc:164] device: 0, cuDNN Version: 9.2.\n"
     ]
    },
    {
     "name": "stdout",
     "output_type": "stream",
     "text": [
      "PaddlePaddle works well on 1 GPU.\n"
     ]
    },
    {
     "name": "stderr",
     "output_type": "stream",
     "text": [
      "I0925 20:00:46.532649 2998259 interpreter_util.cc:624] Standalone Executor is Used.\n",
      "======================= Modified FLAGS detected =======================\n",
      "======================= Modified FLAGS detected =======================\n",
      "FLAGS(name='FLAGS_selected_gpus', current_value='0', default_value='')\n",
      "=======================================================================\n",
      "FLAGS(name='FLAGS_selected_gpus', current_value='1', default_value='')\n",
      "=======================================================================\n",
      "I0925 20:00:49.174574 2998295 tcp_utils.cc:181] The server starts to listen on IP_ANY:54139\n",
      "I0925 20:00:49.174731 2998295 tcp_utils.cc:130] Successfully connected to 127.0.0.1:54139\n",
      "I0925 20:00:49.174722 2998296 tcp_utils.cc:130] Successfully connected to 127.0.0.1:54139\n",
      "I0925 20:00:49.174916 2998296 process_group_nccl.cc:129] ProcessGroupNCCL pg_timeout_ 1800000\n",
      "W0925 20:00:49.178161 2998296 gpu_resources.cc:119] Please NOTE: device: 1, GPU Compute Capability: 8.0, Driver API Version: 12.9, Runtime API Version: 11.8\n",
      "W0925 20:00:49.180145 2998296 gpu_resources.cc:164] device: 1, cuDNN Version: 9.2.\n",
      "I0925 20:00:49.257517 2998295 process_group_nccl.cc:129] ProcessGroupNCCL pg_timeout_ 1800000\n",
      "W0925 20:00:49.263684 2998295 gpu_resources.cc:119] Please NOTE: device: 0, GPU Compute Capability: 8.0, Driver API Version: 12.9, Runtime API Version: 11.8\n",
      "W0925 20:00:49.265183 2998295 gpu_resources.cc:164] device: 0, cuDNN Version: 9.2.\n",
      "W0925 20:00:49.419219 2998296 dynamic_loader.cc:285] You may need to install 'nccl2' from NVIDIA official website: https://developer.nvidia.com/nccl/nccl-download before install PaddlePaddle.\n",
      "W0925 20:00:49.456691 2998295 dynamic_loader.cc:285] You may need to install 'nccl2' from NVIDIA official website: https://developer.nvidia.com/nccl/nccl-download before install PaddlePaddle.\n",
      "I0925 20:00:49.577270 2998296 process_group_nccl.cc:132] ProcessGroupNCCL destruct \n",
      "I0925 20:00:49.603837 2998295 process_group_nccl.cc:132] ProcessGroupNCCL destruct \n",
      "I0925 20:00:49.783771 2998313 tcp_store.cc:289] receive shutdown event and so quit from MasterDaemon run loop\n",
      "[2025-09-25 20:00:49,953] [ WARNING] install_check.py:289 - PaddlePaddle meets some problem with 2 GPUs. This may be caused by:\n",
      " 1. There is not enough GPUs visible on your system\n",
      " 2. Some GPUs are occupied by other process now\n",
      " 3. NVIDIA-NCCL2 is not installed correctly on your system. Please follow instruction on https://github.com/NVIDIA/nccl-tests \n",
      " to test your NCCL, or reinstall it following https://docs.nvidia.com/deeplearning/sdk/nccl-install-guide/index.html\n",
      "[2025-09-25 20:00:49,954] [ WARNING] install_check.py:297 - \n",
      " Original Error is: \n",
      "\n",
      "----------------------------------------------\n",
      "Process 0 terminated with the following error:\n",
      "----------------------------------------------\n",
      "\n",
      "Traceback (most recent call last):\n",
      "  File \"/storage/ice1/1/0/vchopra37/main_python_env/main_python_venv/lib/python3.11/site-packages/paddle/distributed/spawn.py\", line 372, in _func_wrapper\n",
      "    result = func(*args)\n",
      "             ^^^^^^^^^^^\n",
      "  File \"/storage/ice1/1/0/vchopra37/main_python_env/main_python_venv/lib/python3.11/site-packages/paddle/utils/install_check.py\", line 184, in train_for_run_parallel\n",
      "    dp_layer = paddle.DataParallel(layer)\n",
      "               ^^^^^^^^^^^^^^^^^^^^^^^^^^\n",
      "  File \"/storage/ice1/1/0/vchopra37/main_python_env/main_python_venv/lib/python3.11/site-packages/paddle/distributed/parallel.py\", line 398, in __init__\n",
      "    sync_params_buffers(self._layers, fuse_params=False)\n",
      "  File \"/storage/ice1/1/0/vchopra37/main_python_env/main_python_venv/lib/python3.11/site-packages/decorator.py\", line 235, in fun\n",
      "    return caller(func, *(extras + args), **kw)\n",
      "           ^^^^^^^^^^^^^^^^^^^^^^^^^^^^^^^^^^^^\n",
      "  File \"/storage/ice1/1/0/vchopra37/main_python_env/main_python_venv/lib/python3.11/site-packages/paddle/base/dygraph/base.py\", line 340, in __impl__\n",
      "    return func(*args, **kwargs)\n",
      "           ^^^^^^^^^^^^^^^^^^^^^\n",
      "  File \"/storage/ice1/1/0/vchopra37/main_python_env/main_python_venv/lib/python3.11/site-packages/decorator.py\", line 235, in fun\n",
      "    return caller(func, *(extras + args), **kw)\n",
      "           ^^^^^^^^^^^^^^^^^^^^^^^^^^^^^^^^^^^^\n",
      "  File \"/storage/ice1/1/0/vchopra37/main_python_env/main_python_venv/lib/python3.11/site-packages/paddle/base/wrapped_decorator.py\", line 26, in __impl__\n",
      "    return wrapped_func(*args, **kwargs)\n",
      "           ^^^^^^^^^^^^^^^^^^^^^^^^^^^^^\n",
      "  File \"/storage/ice1/1/0/vchopra37/main_python_env/main_python_venv/lib/python3.11/site-packages/paddle/base/framework.py\", line 593, in __impl__\n",
      "    return func(*args, **kwargs)\n",
      "           ^^^^^^^^^^^^^^^^^^^^^\n",
      "  File \"/storage/ice1/1/0/vchopra37/main_python_env/main_python_venv/lib/python3.11/site-packages/paddle/distributed/parallel.py\", line 197, in sync_params_buffers\n",
      "    paddle.distributed.broadcast(\n",
      "  File \"/storage/ice1/1/0/vchopra37/main_python_env/main_python_venv/lib/python3.11/site-packages/paddle/distributed/communication/broadcast.py\", line 64, in broadcast\n",
      "    return stream.broadcast(\n",
      "           ^^^^^^^^^^^^^^^^^\n",
      "  File \"/storage/ice1/1/0/vchopra37/main_python_env/main_python_venv/lib/python3.11/site-packages/paddle/distributed/communication/stream/broadcast.py\", line 124, in broadcast\n",
      "    return _broadcast_in_dygraph(\n",
      "           ^^^^^^^^^^^^^^^^^^^^^^\n",
      "  File \"/storage/ice1/1/0/vchopra37/main_python_env/main_python_venv/lib/python3.11/site-packages/paddle/distributed/communication/stream/broadcast.py\", line 32, in _broadcast_in_dygraph\n",
      "    task = group.process_group.broadcast(tensor, src_rank_in_group, sync_op)\n",
      "           ^^^^^^^^^^^^^^^^^^^^^^^^^^^^^^^^^^^^^^^^^^^^^^^^^^^^^^^^^^^^^^^^^\n",
      "RuntimeError: (PreconditionNotMet) The third-party dynamic library (libnccl.so) that Paddle depends on is not configured correctly. (error code is libnccl.so: cannot open shared object file: No such file or directory)\n",
      "  Suggestions:\n",
      "  1. Check if the third-party dynamic library (e.g. CUDA, CUDNN) is installed correctly and its version is matched with paddlepaddle you installed.\n",
      "  2. Configure third-party dynamic library environment variables as follows:\n",
      "  - Linux: set LD_LIBRARY_PATH by `export LD_LIBRARY_PATH=...`\n",
      "  - Windows: set PATH by `set PATH=XXX; (at /paddle/paddle/phi/backends/dynload/dynamic_loader.cc:312)\n",
      "\n",
      "\n"
     ]
    },
    {
     "name": "stdout",
     "output_type": "stream",
     "text": [
      "PaddlePaddle is installed successfully ONLY for single GPU! Let's start deep learning with PaddlePaddle now.\n",
      "Run check: \n",
      "\n",
      "----------------------------------------------\n",
      "Process 0 terminated with the following error:\n",
      "----------------------------------------------\n",
      "\n",
      "Traceback (most recent call last):\n",
      "  File \"/storage/ice1/1/0/vchopra37/main_python_env/main_python_venv/lib/python3.11/site-packages/paddle/distributed/spawn.py\", line 372, in _func_wrapper\n",
      "    result = func(*args)\n",
      "             ^^^^^^^^^^^\n",
      "  File \"/storage/ice1/1/0/vchopra37/main_python_env/main_python_venv/lib/python3.11/site-packages/paddle/utils/install_check.py\", line 184, in train_for_run_parallel\n",
      "    dp_layer = paddle.DataParallel(layer)\n",
      "               ^^^^^^^^^^^^^^^^^^^^^^^^^^\n",
      "  File \"/storage/ice1/1/0/vchopra37/main_python_env/main_python_venv/lib/python3.11/site-packages/paddle/distributed/parallel.py\", line 398, in __init__\n",
      "    sync_params_buffers(self._layers, fuse_params=False)\n",
      "  File \"/storage/ice1/1/0/vchopra37/main_python_env/main_python_venv/lib/python3.11/site-packages/decorator.py\", line 235, in fun\n",
      "    return caller(func, *(extras + args), **kw)\n",
      "           ^^^^^^^^^^^^^^^^^^^^^^^^^^^^^^^^^^^^\n",
      "  File \"/storage/ice1/1/0/vchopra37/main_python_env/main_python_venv/lib/python3.11/site-packages/paddle/base/dygraph/base.py\", line 340, in __impl__\n",
      "    return func(*args, **kwargs)\n",
      "           ^^^^^^^^^^^^^^^^^^^^^\n",
      "  File \"/storage/ice1/1/0/vchopra37/main_python_env/main_python_venv/lib/python3.11/site-packages/decorator.py\", line 235, in fun\n",
      "    return caller(func, *(extras + args), **kw)\n",
      "           ^^^^^^^^^^^^^^^^^^^^^^^^^^^^^^^^^^^^\n",
      "  File \"/storage/ice1/1/0/vchopra37/main_python_env/main_python_venv/lib/python3.11/site-packages/paddle/base/wrapped_decorator.py\", line 26, in __impl__\n",
      "    return wrapped_func(*args, **kwargs)\n",
      "           ^^^^^^^^^^^^^^^^^^^^^^^^^^^^^\n",
      "  File \"/storage/ice1/1/0/vchopra37/main_python_env/main_python_venv/lib/python3.11/site-packages/paddle/base/framework.py\", line 593, in __impl__\n",
      "    return func(*args, **kwargs)\n",
      "           ^^^^^^^^^^^^^^^^^^^^^\n",
      "  File \"/storage/ice1/1/0/vchopra37/main_python_env/main_python_venv/lib/python3.11/site-packages/paddle/distributed/parallel.py\", line 197, in sync_params_buffers\n",
      "    paddle.distributed.broadcast(\n",
      "  File \"/storage/ice1/1/0/vchopra37/main_python_env/main_python_venv/lib/python3.11/site-packages/paddle/distributed/communication/broadcast.py\", line 64, in broadcast\n",
      "    return stream.broadcast(\n",
      "           ^^^^^^^^^^^^^^^^^\n",
      "  File \"/storage/ice1/1/0/vchopra37/main_python_env/main_python_venv/lib/python3.11/site-packages/paddle/distributed/communication/stream/broadcast.py\", line 124, in broadcast\n",
      "    return _broadcast_in_dygraph(\n",
      "           ^^^^^^^^^^^^^^^^^^^^^^\n",
      "  File \"/storage/ice1/1/0/vchopra37/main_python_env/main_python_venv/lib/python3.11/site-packages/paddle/distributed/communication/stream/broadcast.py\", line 32, in _broadcast_in_dygraph\n",
      "    task = group.process_group.broadcast(tensor, src_rank_in_group, sync_op)\n",
      "           ^^^^^^^^^^^^^^^^^^^^^^^^^^^^^^^^^^^^^^^^^^^^^^^^^^^^^^^^^^^^^^^^^\n",
      "RuntimeError: (PreconditionNotMet) The third-party dynamic library (libnccl.so) that Paddle depends on is not configured correctly. (error code is libnccl.so: cannot open shared object file: No such file or directory)\n",
      "  Suggestions:\n",
      "  1. Check if the third-party dynamic library (e.g. CUDA, CUDNN) is installed correctly and its version is matched with paddlepaddle you installed.\n",
      "  2. Configure third-party dynamic library environment variables as follows:\n",
      "  - Linux: set LD_LIBRARY_PATH by `export LD_LIBRARY_PATH=...`\n",
      "  - Windows: set PATH by `set PATH=XXX; (at /paddle/paddle/phi/backends/dynload/dynamic_loader.cc:312)\n",
      "\n",
      "\n"
     ]
    },
    {
     "ename": "",
     "evalue": "",
     "output_type": "error",
     "traceback": [
      "\u001b[1;31mThe Kernel crashed while executing code in the current cell or a previous cell. \n",
      "\u001b[1;31mPlease review the code in the cell(s) to identify a possible cause of the failure. \n",
      "\u001b[1;31mClick <a href='https://aka.ms/vscodeJupyterKernelCrash'>here</a> for more info. \n",
      "\u001b[1;31mView Jupyter <a href='command:jupyter.viewOutput'>log</a> for further details."
     ]
    }
   ],
   "source": [
    "\n",
    "import paddle\n",
    "print(\"Device:\", paddle.get_device())\n",
    "try: paddle.utils.run_check()\n",
    "except Exception as e: print(\"Run check:\", e)\n"
   ]
  },
  {
   "cell_type": "code",
   "execution_count": null,
   "id": "8c94a079",
   "metadata": {},
   "outputs": [],
   "source": []
  },
  {
   "cell_type": "code",
   "execution_count": null,
   "id": "b2c1a4ea",
   "metadata": {},
   "outputs": [],
   "source": []
  },
  {
   "cell_type": "code",
   "execution_count": null,
   "id": "5bad7dab",
   "metadata": {},
   "outputs": [],
   "source": []
  },
  {
   "cell_type": "code",
   "execution_count": null,
   "id": "2eff5f72",
   "metadata": {},
   "outputs": [],
   "source": []
  },
  {
   "cell_type": "code",
   "execution_count": null,
   "metadata": {},
   "outputs": [],
   "source": []
  }
 ],
 "metadata": {
  "kernelspec": {
   "display_name": "python_main_env",
   "language": "python",
   "name": "py311_main_env"
  },
  "language_info": {
   "codemirror_mode": {
    "name": "ipython",
    "version": 3
   },
   "file_extension": ".py",
   "mimetype": "text/x-python",
   "name": "python",
   "nbconvert_exporter": "python",
   "pygments_lexer": "ipython3",
   "version": "3.11.9"
  }
 },
 "nbformat": 4,
 "nbformat_minor": 5
}
