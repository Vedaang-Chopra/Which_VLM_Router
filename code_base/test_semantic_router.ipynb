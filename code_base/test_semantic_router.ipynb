{
 "cells": [
  {
   "cell_type": "code",
   "execution_count": 1,
   "id": "591dd0c0",
   "metadata": {},
   "outputs": [],
   "source": [
    "import pandas as pd"
   ]
  },
  {
   "cell_type": "code",
   "execution_count": 2,
   "id": "bb1bbb7f",
   "metadata": {},
   "outputs": [],
   "source": [
    "from dataclasses import dataclass\n",
    "from datasets import load_dataset"
   ]
  },
  {
   "cell_type": "code",
   "execution_count": null,
   "id": "d315c695",
   "metadata": {},
   "outputs": [],
   "source": [
    "@dataclass\n",
    "class ModelConfig:\n",
    "    model_name: str = None \n",
    "    base_url: str = None\n",
    "    api_key: str = \"EMPTY\"\n",
    "    # model: str = \"Qwen/Qwen2.5-VL-3B-Instruct\"\n",
    "    temperature: float = 0.0\n",
    "    max_tokens: int = 2048\n",
    "    \n",
    "gemma_client = ModelConfig(\n",
    "    model_name = \"google/gemma-3-27b-it\",\n",
    "    base_url = \"http://localhost:8000/v1\"\n",
    ")\n",
    "\n",
    "qwen_7b_client = ModelConfig(\n",
    "    model_name = \"Qwen/Qwen2.5-VL-7B-Instruct\",\n",
    "    base_url = \"http://localhost:8002/v1\"\n",
    ")\n",
    "\n",
    "qwen_3b_client = ModelConfig(\n",
    "    model_name = \"Qwen/Qwen2.5-VL-3B-Instruct\",\n",
    "    base_url = \"http://localhost:8013/v1\"\n",
    ")\n",
    "kimi_3b_client = ModelConfig(\n",
    "    model_name = \"moonshotai/Kimi-VL-A3B-Thinking-2506\",\n",
    "    base_url = \"http://localhost:8021/v1\"\n",
    ")\n",
    "\n"
   ]
  },
  {
   "cell_type": "markdown",
   "id": "36755c90",
   "metadata": {},
   "source": [
    "### Test the Evaluation"
   ]
  },
  {
   "cell_type": "code",
   "execution_count": null,
   "id": "b71449a8",
   "metadata": {},
   "outputs": [],
   "source": [
    "# 1) dataset (your existing filtering)\n",
    "dataset = load_dataset(\"lmarena-ai/VisionArena-Chat\", split=\"train\", streaming=True)\n",
    "en_dataset = dataset.filter(lambda ex: ex[\"num_turns\"] == 1 and ex[\"language\"] == \"English\")\n",
    "small_ds = en_dataset.take(100)"
   ]
  },
  {
   "cell_type": "code",
   "execution_count": null,
   "id": "6aa059cc",
   "metadata": {},
   "outputs": [],
   "source": [
    "# 3) wire eval\n",
    "client = EvalClient(eval_client.base_url, eval_client.api_key)\n",
    "runner = EvalRunner(eval_client, client)"
   ]
  },
  {
   "cell_type": "code",
   "execution_count": null,
   "metadata": {},
   "outputs": [],
   "source": []
  },
  {
   "cell_type": "code",
   "execution_count": null,
   "id": "466ba3a2",
   "metadata": {},
   "outputs": [],
   "source": []
  },
  {
   "cell_type": "code",
   "execution_count": null,
   "id": "cb407699",
   "metadata": {},
   "outputs": [],
   "source": []
  },
  {
   "cell_type": "code",
   "execution_count": null,
   "id": "56ce9078",
   "metadata": {},
   "outputs": [],
   "source": []
  },
  {
   "cell_type": "code",
   "execution_count": null,
   "id": "b0494f9d",
   "metadata": {},
   "outputs": [],
   "source": []
  },
  {
   "cell_type": "code",
   "execution_count": null,
   "id": "e89c128b",
   "metadata": {},
   "outputs": [],
   "source": []
  }
 ],
 "metadata": {
  "kernelspec": {
   "display_name": "python_main_env",
   "language": "python",
   "name": "py311_main_env"
  },
  "language_info": {
   "codemirror_mode": {
    "name": "ipython",
    "version": 3
   },
   "file_extension": ".py",
   "mimetype": "text/x-python",
   "name": "python",
   "nbconvert_exporter": "python",
   "pygments_lexer": "ipython3",
   "version": "3.11.9"
  }
 },
 "nbformat": 4,
 "nbformat_minor": 5
}
