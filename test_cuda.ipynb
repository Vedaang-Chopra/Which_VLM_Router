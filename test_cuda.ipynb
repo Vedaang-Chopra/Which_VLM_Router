{
 "cells": [
  {
   "cell_type": "code",
   "execution_count": 1,
   "id": "c8a7aca7",
   "metadata": {},
   "outputs": [
    {
     "name": "stdout",
     "output_type": "stream",
     "text": [
      "Hello World\n"
     ]
    }
   ],
   "source": [
    "print(\"Hello World\")"
   ]
  },
  {
   "cell_type": "code",
   "execution_count": 3,
   "id": "f0ef684b",
   "metadata": {},
   "outputs": [
    {
     "name": "stdout",
     "output_type": "stream",
     "text": [
      "PyTorch: 2.8.0+cu128\n",
      "CUDA available: True\n"
     ]
    }
   ],
   "source": [
    "# torch_gpu_check.py\n",
    "import time, torch\n",
    "\n",
    "print(\"PyTorch:\", torch.__version__)\n",
    "print(\"CUDA available:\", torch.cuda.is_available())\n",
    "if not torch.cuda.is_available():\n",
    "    raise SystemExit(\">> CUDA not visible to PyTorch. Check env/modules and CUDA drivers.\")\n"
   ]
  },
  {
   "cell_type": "code",
   "execution_count": 7,
   "id": "60cf58e6",
   "metadata": {},
   "outputs": [
    {
     "name": "stdout",
     "output_type": "stream",
     "text": [
      "Device 1: NVIDIA A100 80GB PCIe, CC 8.0, VRAM 79.3 GB\n"
     ]
    }
   ],
   "source": [
    "dev = torch.device(\"cuda:1\")\n",
    "props = torch.cuda.get_device_properties(dev)\n",
    "print(f\"Device 1: {props.name}, CC {props.major}.{props.minor}, \"\n",
    "      f\"VRAM {props.total_memory/1024**3:.1f} GB\")"
   ]
  },
  {
   "cell_type": "code",
   "execution_count": 6,
   "id": "f80fd354",
   "metadata": {},
   "outputs": [
    {
     "name": "stdout",
     "output_type": "stream",
     "text": [
      "Matmul size 4096x4096 -> torch.Size([4096, 4096]) | elapsed: 0.007s\n",
      "Peak memory (approx): 0.1954345703125 GB\n"
     ]
    }
   ],
   "source": [
    "\n",
    "\n",
    "# small correctness test\n",
    "a = torch.randn((4096, 4096), device=dev, dtype=torch.float32)\n",
    "b = torch.randn((4096, 4096), device=dev, dtype=torch.float32)\n",
    "\n",
    "# warmup\n",
    "for _ in range(3):\n",
    "    (a @ b).sum().backward(retain_graph=True) if a.requires_grad else (a @ b)\n",
    "\n",
    "torch.cuda.synchronize()\n",
    "t0 = time.time()\n",
    "c = a @ b\n",
    "torch.cuda.synchronize()\n",
    "t1 = time.time()\n",
    "\n",
    "print(\"Matmul size 4096x4096 ->\", c.shape, f\"| elapsed: {t1 - t0:.3f}s\")\n",
    "print(\"Peak memory (approx):\", torch.cuda.max_memory_allocated()/1024**3, \"GB\")\n"
   ]
  }
 ],
 "metadata": {
  "kernelspec": {
   "display_name": "python_main_env",
   "language": "python",
   "name": "py311_main_env"
  }
 },
 "nbformat": 4,
 "nbformat_minor": 5
}
